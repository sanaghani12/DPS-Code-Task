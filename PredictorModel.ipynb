{
  "nbformat": 4,
  "nbformat_minor": 0,
  "metadata": {
    "colab": {
      "name": "PredictorModel.ipynb",
      "provenance": [],
      "collapsed_sections": [],
      "authorship_tag": "ABX9TyP54TLSSOH0OhHh9DlU4592",
      "include_colab_link": true
    },
    "kernelspec": {
      "name": "python3",
      "display_name": "Python 3"
    },
    "language_info": {
      "name": "python"
    }
  },
  "cells": [
    {
      "cell_type": "markdown",
      "metadata": {
        "id": "view-in-github",
        "colab_type": "text"
      },
      "source": [
        "<a href=\"https://colab.research.google.com/github/sanaghani12/DPS-Code-Task/blob/main/PredictorModel.ipynb\" target=\"_parent\"><img src=\"https://colab.research.google.com/assets/colab-badge.svg\" alt=\"Open In Colab\"/></a>"
      ]
    },
    {
      "cell_type": "code",
      "source": [
        ""
      ],
      "metadata": {
        "id": "zaQTlE8c4Od7"
      },
      "execution_count": 44,
      "outputs": []
    },
    {
      "cell_type": "code",
      "source": [
        "from google.colab import drive\n",
        "drive.mount('/content/drive')\n",
        "\n",
        "import pandas as pd\n",
        "import numpy as np\n",
        "import seaborn as sns\n",
        "import plotly.express as px\n",
        "from sklearn.model_selection import train_test_split\n",
        "from sklearn.linear_model import LinearRegression\n",
        "from sklearn import metrics\n",
        "\n",
        "df = pd.read_csv(\"/content/drive/MyDrive/Data/220511_monatszahlenmonatszahlen2204_verkehrsunfaelle.csv\")"
      ],
      "metadata": {
        "colab": {
          "base_uri": "https://localhost:8080/"
        },
        "id": "_xYhdsa9I8r7",
        "outputId": "a34122cd-15b4-41ae-f36f-355391b174fc"
      },
      "execution_count": 45,
      "outputs": [
        {
          "output_type": "stream",
          "name": "stdout",
          "text": [
            "Drive already mounted at /content/drive; to attempt to forcibly remount, call drive.mount(\"/content/drive\", force_remount=True).\n"
          ]
        }
      ]
    },
    {
      "cell_type": "code",
      "source": [
        "data = df[['MONATSZAHL', 'AUSPRAEGUNG','JAHR','MONAT','WERT']] # important features\n",
        "data = data.dropna()\n",
        "data = data[df.JAHR < 2021]\n",
        "data = data[df.MONAT != 'Summe']\n",
        "data['MONAT'] = df['MONAT'].str[-2:]\n",
        "\n",
        "monatszahl_description = {\"Alkoholunfälle\": \"0\",\"Fluchtunfälle\": \"1\",\"Verkehrsunfälle\": \"2\"}\n",
        "auspraegung_description = {\"insgesamt\": \"0\",\"mit Personenschäden\": \"1\",\"Verletzte und Getötete\": \"2\"}\n",
        "data['MONATSZAHL'] = data['MONATSZAHL'].map(monatszahl_description)\n",
        "data['AUSPRAEGUNG'] = data['AUSPRAEGUNG'].map(auspraegung_description)\n",
        "\n",
        "print(data.info())\n",
        "print(data.head(10))"
      ],
      "metadata": {
        "colab": {
          "base_uri": "https://localhost:8080/"
        },
        "id": "8mnAYpEZKOTD",
        "outputId": "b08fce78-5cb6-402a-859d-62454d020951"
      },
      "execution_count": 46,
      "outputs": [
        {
          "output_type": "stream",
          "name": "stdout",
          "text": [
            "<class 'pandas.core.frame.DataFrame'>\n",
            "Int64Index: 1764 entries, 26 to 2085\n",
            "Data columns (total 5 columns):\n",
            " #   Column       Non-Null Count  Dtype  \n",
            "---  ------       --------------  -----  \n",
            " 0   MONATSZAHL   1764 non-null   object \n",
            " 1   AUSPRAEGUNG  1764 non-null   object \n",
            " 2   JAHR         1764 non-null   int64  \n",
            " 3   MONAT        1764 non-null   object \n",
            " 4   WERT         1764 non-null   float64\n",
            "dtypes: float64(1), int64(1), object(3)\n",
            "memory usage: 82.7+ KB\n",
            "None\n",
            "   MONATSZAHL AUSPRAEGUNG  JAHR MONAT  WERT\n",
            "26          0           0  2020    01  28.0\n",
            "27          0           0  2020    02  40.0\n",
            "28          0           0  2020    03  27.0\n",
            "29          0           0  2020    04  26.0\n",
            "30          0           0  2020    05  40.0\n",
            "31          0           0  2020    06  49.0\n",
            "32          0           0  2020    07  58.0\n",
            "33          0           0  2020    08  46.0\n",
            "34          0           0  2020    09  46.0\n",
            "35          0           0  2020    10  34.0\n"
          ]
        },
        {
          "output_type": "stream",
          "name": "stderr",
          "text": [
            "/usr/local/lib/python3.7/dist-packages/ipykernel_launcher.py:3: UserWarning: Boolean Series key will be reindexed to match DataFrame index.\n",
            "  This is separate from the ipykernel package so we can avoid doing imports until\n",
            "/usr/local/lib/python3.7/dist-packages/ipykernel_launcher.py:4: UserWarning: Boolean Series key will be reindexed to match DataFrame index.\n",
            "  after removing the cwd from sys.path.\n"
          ]
        }
      ]
    },
    {
      "cell_type": "code",
      "source": [
        "\n",
        "X = data[['MONATSZAHL', 'AUSPRAEGUNG', 'MONAT','JAHR']]\n",
        "y = data['WERT']\n",
        "\n",
        "X_train, X_test, y_train, y_test = train_test_split(X, y, test_size=0.2, random_state=0)\n",
        "\n",
        "print(X_train.shape)\n",
        "print(X_test.shape)\n",
        "print(y_train.shape)\n",
        "print(y_test.shape)"
      ],
      "metadata": {
        "colab": {
          "base_uri": "https://localhost:8080/"
        },
        "id": "Ujk_vckjKdVl",
        "outputId": "39b21063-cc2f-4198-9e91-4e041a722365"
      },
      "execution_count": 47,
      "outputs": [
        {
          "output_type": "stream",
          "name": "stdout",
          "text": [
            "(1411, 4)\n",
            "(353, 4)\n",
            "(1411,)\n",
            "(353,)\n"
          ]
        }
      ]
    },
    {
      "cell_type": "code",
      "source": [
        "regressor = LinearRegression()\n",
        "regressor.fit(X_train, y_train)\n",
        "y_pred = regressor.predict(X_test)\n",
        "results= pd.DataFrame({'Actual': y_test, 'Predicted': y_pred})\n",
        "print(results)\n",
        "print('Mean Absolute Error:', metrics.mean_absolute_error(y_test, y_pred))\n",
        "print('Mean Squared Error:', metrics.mean_squared_error(y_test, y_pred))\n",
        "print('Root Mean Squared Error:', np.sqrt(metrics.mean_squared_error(y_test, y_pred)))\n",
        "print('regressor score: ',regressor.score(X_test,y_test))\n",
        "\n",
        "sns.regplot(y_test,y_pred) #regression graph plot\n",
        "new_input = [[0,0,1,2020]]\n",
        "y_pred = regressor.predict(new_input)\n",
        "print(\"predicted value: \",y_pred.astype('int'))\n"
      ],
      "metadata": {
        "colab": {
          "base_uri": "https://localhost:8080/",
          "height": 698
        },
        "id": "ohEsKeBzVH0-",
        "outputId": "70cd588c-355e-452f-cd1f-ca579665e286"
      },
      "execution_count": 48,
      "outputs": [
        {
          "output_type": "stream",
          "name": "stdout",
          "text": [
            "      Actual    Predicted\n",
            "1388  2643.0  2013.845914\n",
            "799    797.0  1330.194948\n",
            "497     39.0  -719.836694\n",
            "680   1095.0  1344.206858\n",
            "1462  3529.0  2063.274576\n",
            "...      ...          ...\n",
            "1257  3320.0  2038.278698\n",
            "1151    59.0    45.420885\n",
            "659    900.0  1386.805682\n",
            "1906   326.0   746.252277\n",
            "1265  4017.0  2096.297572\n",
            "\n",
            "[353 rows x 2 columns]\n",
            "Mean Absolute Error: 634.0264625148988\n",
            "Mean Squared Error: 650476.2118485435\n",
            "Root Mean Squared Error: 806.5210548079594\n",
            "regressor score:  0.5466887968970344\n"
          ]
        },
        {
          "output_type": "stream",
          "name": "stderr",
          "text": [
            "/usr/local/lib/python3.7/dist-packages/seaborn/_decorators.py:43: FutureWarning: Pass the following variables as keyword args: x, y. From version 0.12, the only valid positional argument will be `data`, and passing other arguments without an explicit keyword will result in an error or misinterpretation.\n",
            "  FutureWarning\n"
          ]
        },
        {
          "output_type": "stream",
          "name": "stdout",
          "text": [
            "predicted value:  [578]\n"
          ]
        },
        {
          "output_type": "stream",
          "name": "stderr",
          "text": [
            "/usr/local/lib/python3.7/dist-packages/sklearn/base.py:451: UserWarning: X does not have valid feature names, but LinearRegression was fitted with feature names\n",
            "  \"X does not have valid feature names, but\"\n"
          ]
        },
        {
          "output_type": "display_data",
          "data": {
            "text/plain": [
              "<Figure size 432x288 with 1 Axes>"
            ],
            "image/png": "[encoded data removed]"
          },
          "metadata": {
            "needs_background": "light"
          }
        }
      ]
    },
    {
      "cell_type": "code",
      "source": [
        "#TRAINING WITH ALL FEATURES (IMPROVED)\n",
        "data = df[['MONATSZAHL', 'AUSPRAEGUNG','JAHR','MONAT','WERT','VORJAHRESWERT','VERAEND_VORMONAT_PROZENT','VERAEND_VORJAHRESMONAT_PROZENT','ZWOELF_MONATE_MITTELWERT']]\n",
        "data = data.dropna()\n",
        "data = data[df.JAHR < 2021]\n",
        "data = data[df.MONAT != 'Summe']\n",
        "data['MONAT'] = df['MONAT'].str[-2:]\n",
        "\n",
        "monatszahl_description = {\"Alkoholunfälle\": \"0\",\"Fluchtunfälle\": \"1\",\"Verkehrsunfälle\": \"2\"}\n",
        "auspraegung_description = {\"insgesamt\": \"0\",\"mit Personenschäden\": \"1\",\"Verletzte und Getötete\": \"2\"}\n",
        "data['MONATSZAHL'] = data['MONATSZAHL'].map(monatszahl_description)\n",
        "data['AUSPRAEGUNG'] = data['AUSPRAEGUNG'].map(auspraegung_description)\n",
        "\n",
        "X = data[['MONATSZAHL', 'AUSPRAEGUNG', 'MONAT','JAHR','VORJAHRESWERT','VERAEND_VORMONAT_PROZENT','VERAEND_VORJAHRESMONAT_PROZENT','ZWOELF_MONATE_MITTELWERT']]\n",
        "y = data['WERT']\n",
        "\n",
        "X_train, X_test, y_train, y_test = train_test_split(X, y, test_size=0.2, random_state=0)\n",
        "\n",
        "regressor = LinearRegression()\n",
        "regressor.fit(X_train, y_train)\n",
        "y_pred = regressor.predict(X_test)\n",
        "results= pd.DataFrame({'Actual': y_test, 'Predicted': y_pred})\n",
        "\n",
        "print(results)\n",
        "print('Mean Absolute Error:', metrics.mean_absolute_error(y_test, y_pred))\n",
        "print('Mean Squared Error:', metrics.mean_squared_error(y_test, y_pred))\n",
        "print('Root Mean Squared Error:', np.sqrt(metrics.mean_squared_error(y_test, y_pred)))\n",
        "print('regressor score: ',regressor.score(X_test,y_test))\n",
        "\n",
        "sns.regplot(y_test,y_pred) #regression graph plot\n",
        "new_input = [[0,0,1,2020,22,-20,27.27,37]]\n",
        "y_pred = regressor.predict(new_input)\n",
        "print(\"predicted value: \",y_pred.astype('int'))\n"
      ],
      "metadata": {
        "colab": {
          "base_uri": "https://localhost:8080/",
          "height": 768
        },
        "id": "rvJMzIfcIQ2x",
        "outputId": "5dff2c6b-154b-4070-d9f8-30d462eb4bbf"
      },
      "execution_count": 49,
      "outputs": [
        {
          "output_type": "stream",
          "name": "stderr",
          "text": [
            "/usr/local/lib/python3.7/dist-packages/ipykernel_launcher.py:4: UserWarning: Boolean Series key will be reindexed to match DataFrame index.\n",
            "  after removing the cwd from sys.path.\n",
            "/usr/local/lib/python3.7/dist-packages/ipykernel_launcher.py:5: UserWarning: Boolean Series key will be reindexed to match DataFrame index.\n",
            "  \"\"\"\n",
            "/usr/local/lib/python3.7/dist-packages/seaborn/_decorators.py:43: FutureWarning: Pass the following variables as keyword args: x, y. From version 0.12, the only valid positional argument will be `data`, and passing other arguments without an explicit keyword will result in an error or misinterpretation.\n",
            "  FutureWarning\n"
          ]
        },
        {
          "output_type": "stream",
          "name": "stdout",
          "text": [
            "      Actual    Predicted\n",
            "1277  3400.0  3604.338763\n",
            "1382  3271.0  3366.251496\n",
            "580     37.0    58.393640\n",
            "1647   200.0   252.075417\n",
            "357     18.0    29.133083\n",
            "...      ...          ...\n",
            "74      32.0    36.057130\n",
            "940     37.0    18.918387\n",
            "1457  3586.0  3683.044857\n",
            "92      23.0    33.537438\n",
            "1134    83.0   196.231348\n",
            "\n",
            "[336 rows x 2 columns]\n",
            "Mean Absolute Error: 74.1282461714142\n",
            "Mean Squared Error: 22987.95047798519\n",
            "Root Mean Squared Error: 151.61777757896726\n",
            "regressor score:  0.9832669606223889\n",
            "predicted value:  [17]\n"
          ]
        },
        {
          "output_type": "stream",
          "name": "stderr",
          "text": [
            "/usr/local/lib/python3.7/dist-packages/sklearn/base.py:451: UserWarning: X does not have valid feature names, but LinearRegression was fitted with feature names\n",
            "  \"X does not have valid feature names, but\"\n"
          ]
        },
        {
          "output_type": "display_data",
          "data": {
            "text/plain": [
              "<Figure size 432x288 with 1 Axes>"
            ],
            "image/png": "[encoded data removed]"
          },
          "metadata": {
            "needs_background": "light"
          }
        }
      ]
    }
  ]
}