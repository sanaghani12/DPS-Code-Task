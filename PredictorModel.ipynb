{
  "nbformat": 4,
  "nbformat_minor": 0,
  "metadata": {
    "colab": {
      "name": "PredictorModel.ipynb",
      "provenance": [],
      "authorship_tag": "ABX9TyM+Kyu+pR7+yn8gwNxK+e5U",
      "include_colab_link": true
    },
    "kernelspec": {
      "name": "python3",
      "display_name": "Python 3"
    },
    "language_info": {
      "name": "python"
    }
  },
  "cells": [
    {
      "cell_type": "markdown",
      "metadata": {
        "id": "view-in-github",
        "colab_type": "text"
      },
      "source": [
        "<a href=\"https://colab.research.google.com/github/sanaghani12/DPS-Code-Task/blob/main/PredictorModel.ipynb\" target=\"_parent\"><img src=\"https://colab.research.google.com/assets/colab-badge.svg\" alt=\"Open In Colab\"/></a>"
      ]
    },
    {
      "cell_type": "code",
      "source": [
        ""
      ],
      "metadata": {
        "id": "zaQTlE8c4Od7"
      },
      "execution_count": 149,
      "outputs": []
    },
    {
      "cell_type": "code",
      "source": [
        "from google.colab import drive\n",
        "drive.mount('/content/drive')\n",
        "\n",
        "import pandas as pd\n",
        "import numpy as np\n",
        "import seaborn as sns\n",
        "import plotly.express as px\n",
        "from sklearn.model_selection import train_test_split\n",
        "from sklearn.linear_model import LinearRegression\n",
        "from sklearn import metrics\n",
        "\n",
        "df = pd.read_csv(\"/content/drive/MyDrive/Data/220511_monatszahlenmonatszahlen2204_verkehrsunfaelle.csv\")"
      ],
      "metadata": {
        "colab": {
          "base_uri": "https://localhost:8080/"
        },
        "id": "_xYhdsa9I8r7",
        "outputId": "98518518-5415-4c8c-dc6c-e04e5a96489a"
      },
      "execution_count": 150,
      "outputs": [
        {
          "output_type": "stream",
          "name": "stdout",
          "text": [
            "Drive already mounted at /content/drive; to attempt to forcibly remount, call drive.mount(\"/content/drive\", force_remount=True).\n"
          ]
        }
      ]
    },
    {
      "cell_type": "code",
      "source": [
        "df = df[['MONATSZAHL', 'AUSPRAEGUNG','JAHR','MONAT','WERT']]\n",
        "df = df.dropna()\n",
        "df = df[df.MONAT != 'Summe']\n",
        "df[['MONAT']] = df[['MONAT']].apply(lambda x: x.str[-2:])\n",
        "print(df.info())\n",
        "print(df.head(10))"
      ],
      "metadata": {
        "colab": {
          "base_uri": "https://localhost:8080/"
        },
        "id": "8mnAYpEZKOTD",
        "outputId": "f0ef16c9-8d03-402e-f315-7cd5baf071cd"
      },
      "execution_count": 151,
      "outputs": [
        {
          "output_type": "stream",
          "name": "stdout",
          "text": [
            "<class 'pandas.core.frame.DataFrame'>\n",
            "Int64Index: 1848 entries, 13 to 2085\n",
            "Data columns (total 5 columns):\n",
            " #   Column       Non-Null Count  Dtype  \n",
            "---  ------       --------------  -----  \n",
            " 0   MONATSZAHL   1848 non-null   object \n",
            " 1   AUSPRAEGUNG  1848 non-null   object \n",
            " 2   JAHR         1848 non-null   int64  \n",
            " 3   MONAT        1848 non-null   object \n",
            " 4   WERT         1848 non-null   float64\n",
            "dtypes: float64(1), int64(1), object(3)\n",
            "memory usage: 86.6+ KB\n",
            "None\n",
            "        MONATSZAHL AUSPRAEGUNG  JAHR MONAT  WERT\n",
            "13  Alkoholunfälle   insgesamt  2021    01  16.0\n",
            "14  Alkoholunfälle   insgesamt  2021    02  14.0\n",
            "15  Alkoholunfälle   insgesamt  2021    03  24.0\n",
            "16  Alkoholunfälle   insgesamt  2021    04  16.0\n",
            "17  Alkoholunfälle   insgesamt  2021    05  24.0\n",
            "18  Alkoholunfälle   insgesamt  2021    06  48.0\n",
            "19  Alkoholunfälle   insgesamt  2021    07  44.0\n",
            "20  Alkoholunfälle   insgesamt  2021    08  46.0\n",
            "21  Alkoholunfälle   insgesamt  2021    09  54.0\n",
            "22  Alkoholunfälle   insgesamt  2021    10  43.0\n"
          ]
        }
      ]
    },
    {
      "cell_type": "code",
      "source": [
        "X = df[['MONATSZAHL', 'AUSPRAEGUNG', 'MONAT']]\n",
        "y = df['WERT']\n",
        "X = pd.get_dummies(data=X,columns=[\"MONATSZAHL\", \"AUSPRAEGUNG\",\"MONAT\"])\n",
        "\n",
        "X_train, X_test, y_train, y_test = train_test_split(X, y, test_size=0.2, random_state=0)\n",
        "\n",
        "print(X_train.shape)\n",
        "print(X_test.shape)\n",
        "print(y_train.shape)\n",
        "print(y_test.shape)"
      ],
      "metadata": {
        "colab": {
          "base_uri": "https://localhost:8080/"
        },
        "id": "Ujk_vckjKdVl",
        "outputId": "2d317763-760b-4bc5-8280-84b8ae752987"
      },
      "execution_count": 152,
      "outputs": [
        {
          "output_type": "stream",
          "name": "stdout",
          "text": [
            "(1478, 18)\n",
            "(370, 18)\n",
            "(1478,)\n",
            "(370,)\n"
          ]
        }
      ]
    },
    {
      "cell_type": "code",
      "source": [
        "regressor = LinearRegression()\n",
        "regressor.fit(X_train, y_train)\n",
        "y_pred = regressor.predict(X_test)\n",
        "df = pd.DataFrame({'Actual': y_test, 'Predicted': y_pred})\n",
        "\n",
        "print('Mean Absolute Error:', metrics.mean_absolute_error(y_test, y_pred))\n",
        "print('Mean Squared Error:', metrics.mean_squared_error(y_test, y_pred))\n",
        "print('Root Mean Squared Error:', np.sqrt(metrics.mean_squared_error(y_test, y_pred)))\n",
        "print('regressor score: ',regressor.score(X_test,y_test))\n",
        "\n",
        "sns.regplot(y_test,y_pred) #regression graph plot\n"
      ],
      "metadata": {
        "colab": {
          "base_uri": "https://localhost:8080/",
          "height": 420
        },
        "id": "ohEsKeBzVH0-",
        "outputId": "c17af284-6b92-4536-d868-ee77af7333be"
      },
      "execution_count": 153,
      "outputs": [
        {
          "output_type": "stream",
          "name": "stdout",
          "text": [
            "Mean Absolute Error: 477.8324324324324\n",
            "Mean Squared Error: 339848.6\n",
            "Root Mean Squared Error: 582.9653505998448\n",
            "regressor score:  0.7244672683062731\n"
          ]
        },
        {
          "output_type": "stream",
          "name": "stderr",
          "text": [
            "/usr/local/lib/python3.7/dist-packages/seaborn/_decorators.py:43: FutureWarning: Pass the following variables as keyword args: x, y. From version 0.12, the only valid positional argument will be `data`, and passing other arguments without an explicit keyword will result in an error or misinterpretation.\n",
            "  FutureWarning\n"
          ]
        },
        {
          "output_type": "execute_result",
          "data": {
            "text/plain": [
              "<matplotlib.axes._subplots.AxesSubplot at 0x7f00a2c47150>"
            ]
          },
          "metadata": {},
          "execution_count": 153
        },
        {
          "output_type": "display_data",
          "data": {
            "text/plain": [
              "<Figure size 432x288 with 1 Axes>"
            ],
            "image/png": "[encoded data removed]"
          },
          "metadata": {
            "needs_background": "light"
          }
        }
      ]
    }
  ]
}